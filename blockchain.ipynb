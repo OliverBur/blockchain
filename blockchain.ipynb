{
 "cells": [
  {
   "cell_type": "code",
   "execution_count": 1,
   "id": "2d766d44",
   "metadata": {},
   "outputs": [
    {
     "name": "stdout",
     "output_type": "stream",
     "text": [
      "Firma valida\n"
     ]
    }
   ],
   "source": [
    "from cryptography.hazmat.primitives.asymmetric import ec\n",
    "from cryptography.hazmat.primitives import hashes\n",
    "\n",
    "# Generacion de clave privada\n",
    "private_key = ec.generate_private_key(ec.SECP256K1())\n",
    "public_key = private_key.public_key()\n",
    "\n",
    "# Firma de mensaje\n",
    "message = b\"Transaccion blockchain\"\n",
    "signature = private_key.sign(message, ec.ECDSA(hashes.SHA256()))\n",
    "\n",
    "# Verificacion\n",
    "try:\n",
    "    public_key.verify(signature, message, ec.ECDSA(hashes.SHA256()))\n",
    "    print(\"Firma valida\")\n",
    "except:\n",
    "    print(\"Firma invalida\")"
   ]
  },
  {
   "cell_type": "code",
   "execution_count": 2,
   "id": "57c53d41",
   "metadata": {},
   "outputs": [],
   "source": [
    "import hashlib\n",
    "import json\n",
    "from datetime import datetime\n",
    "import random\n",
    "\n",
    "class Block:\n",
    "    def __init__(self, index, transaction, previous_hash):\n",
    "        self.index = index\n",
    "        self.timestamp = str(datetime.now())\n",
    "        self.transaction = transaction  # Solo una transacción por bloque\n",
    "        self.previous_hash = previous_hash\n",
    "        self.nonce = 0\n",
    "        self.hash = self.compute_hash()\n",
    "        self.stakeholders = {}  # Para PoS\n",
    "        self.authorized_validators = []  # Para PoA\n",
    "\n",
    "    def compute_hash(self):\n",
    "        block_data = {\n",
    "            'index': self.index,\n",
    "            'timestamp': self.timestamp,\n",
    "            'transaction': self.transaction,\n",
    "            'previous_hash': self.previous_hash,\n",
    "            'nonce': self.nonce\n",
    "        }\n",
    "        block_string = json.dumps(block_data, sort_keys=True)\n",
    "        return hashlib.sha256(block_string.encode()).hexdigest()\n",
    "\n",
    "    def pow(self, difficulty=4):\n",
    "        while self.hash[:difficulty] != '0' * difficulty:\n",
    "            self.nonce += 1\n",
    "            self.hash = self.compute_hash()\n",
    "        print(f\"Bloque minado con PoW: {self.hash}\")\n",
    "\n",
    "    def pos(self):\n",
    "        # Simplificación: elegir validador al azar según stake\n",
    "        if not self.stakeholders:\n",
    "            print(\"No hay participantes con stake para validar.\")\n",
    "            return\n",
    "\n",
    "        total_stake = sum(self.stakeholders.values())\n",
    "        pick = random.uniform(0, total_stake)\n",
    "        current = 0\n",
    "        for validator, stake in self.stakeholders.items():\n",
    "            current += stake\n",
    "            if current >= pick:\n",
    "                print(f\"Bloque validado con PoS por: {validator}\")\n",
    "                break\n",
    "\n",
    "    def poa(self, proposed_validator=None):\n",
    "        if not self.authorized_validators:\n",
    "            print(\"No hay validadores autorizados definidos.\")\n",
    "            return\n",
    "\n",
    "        if proposed_validator:\n",
    "            if proposed_validator in self.authorized_validators:\n",
    "                print(f\"Bloque validado con PoA por: {proposed_validator}\")\n",
    "            else:\n",
    "                print(f\"ERROR: {proposed_validator} no está autorizado para validar este bloque.\")\n",
    "        else:\n",
    "            validator = random.choice(self.authorized_validators)\n",
    "            print(f\"Bloque validado con PoA por: {validator}\")"
   ]
  },
  {
   "cell_type": "code",
   "execution_count": 3,
   "id": "2708ba81",
   "metadata": {},
   "outputs": [
    {
     "name": "stdout",
     "output_type": "stream",
     "text": [
      "Bloque 0:\n",
      "  Timestamp: 2025-05-15 11:32:03.874030\n",
      "  Transaccion: Primer Block\n",
      "  Hash anterior: 0\n",
      "  Hash: 08b0360f1bea2294ecdf7c2c8df8af276b9a11867b540993ec0385341c48123c\n",
      "\n",
      "Bloque 1:\n",
      "  Timestamp: 2025-05-15 11:32:03.874030\n",
      "  Transaccion: Transaccion 1\n",
      "  Hash anterior: 08b0360f1bea2294ecdf7c2c8df8af276b9a11867b540993ec0385341c48123c\n",
      "  Hash: 4cfe3eb7e6c7cd88832ce118b722a718c605363e737699ddae9cf67356018426\n",
      "\n",
      "Bloque 2:\n",
      "  Timestamp: 2025-05-15 11:32:03.874030\n",
      "  Transaccion: Transaccion 2\n",
      "  Hash anterior: 4cfe3eb7e6c7cd88832ce118b722a718c605363e737699ddae9cf67356018426\n",
      "  Hash: 04ab5dbf0f866963dac315a3d7afd5d668093bb1b4b31c757d23632cf208df44\n",
      "\n"
     ]
    }
   ],
   "source": [
    "def create_genesis_block():\n",
    "    return Block(0, \"Primer Block\", \"0\")\n",
    "\n",
    "def create_new_block(previous_block, transaction):\n",
    "    index = previous_block.index + 1\n",
    "    previous_hash = previous_block.hash\n",
    "    new_block = Block(index, transaction, previous_hash)\n",
    "    return new_block\n",
    "\n",
    "blockchain = []\n",
    "\n",
    "# Crear el bloque génesis\n",
    "genesis_block = create_genesis_block()\n",
    "blockchain.append(genesis_block)\n",
    "\n",
    "# Crear un nuevo bloque\n",
    "new_block = create_new_block(genesis_block, \"Transaccion 1\")\n",
    "blockchain.append(new_block)\n",
    "\n",
    "# Crear otro nuevo bloque\n",
    "new_block = create_new_block(blockchain[-1], \"Transaccion 2\")\n",
    "blockchain.append(new_block)\n",
    "\n",
    "# Imprimir la cadena de bloques\n",
    "for block in blockchain:\n",
    "    print(f\"Bloque {block.index}:\")\n",
    "    print(f\"  Timestamp: {block.timestamp}\")\n",
    "    print(f\"  Transaccion: {block.transaction}\")\n",
    "    print(f\"  Hash anterior: {block.previous_hash}\")\n",
    "    print(f\"  Hash: {block.hash}\")\n",
    "    print()"
   ]
  },
  {
   "cell_type": "code",
   "execution_count": 4,
   "id": "45b0b9f5",
   "metadata": {},
   "outputs": [
    {
     "name": "stdout",
     "output_type": "stream",
     "text": [
      "Bloque minado con PoW: 00000566f16e5d99a6437be4e3bb9ac42319755c6c4a69bfd42a23a03d240d8d\n"
     ]
    }
   ],
   "source": [
    "# Ejemplo de uso PoW\n",
    "\n",
    "genesis_block = Block(0, [], \"0\")\n",
    "genesis_block.pow(difficulty = 5)"
   ]
  },
  {
   "cell_type": "code",
   "execution_count": 5,
   "id": "345423f7",
   "metadata": {},
   "outputs": [
    {
     "name": "stdout",
     "output_type": "stream",
     "text": [
      "Bloque validado con PoS por: Bob\n"
     ]
    }
   ],
   "source": [
    "#Ejemplo de uso PoS\n",
    "\n",
    "genesis_block = Block(0, [], \"0\")\n",
    "genesis_block.stakeholders = {\n",
    "    \"Alice\": 10,\n",
    "    \"Bob\": 80,\n",
    "    \"Charlie\": 10\n",
    "}\n",
    "\n",
    "genesis_block.pos()"
   ]
  },
  {
   "cell_type": "code",
   "execution_count": 6,
   "id": "90906a8e",
   "metadata": {},
   "outputs": [
    {
     "name": "stdout",
     "output_type": "stream",
     "text": [
      "Bloque validado con PoA por: Alice\n",
      "ERROR: Oliver no está autorizado para validar este bloque.\n",
      "Bloque validado con PoA por: Alice\n"
     ]
    }
   ],
   "source": [
    "# Ejemplo de uso PoA\n",
    "\n",
    "genesis_block = Block(0, [], \"0\")\n",
    "genesis_block.authorized_validators = [\"Alice\", \"Bob\", \"Charlie\"]\n",
    "\n",
    "genesis_block.poa(\"Alice\")  \n",
    "genesis_block.poa(\"Oliver\") # mostrará error porque no está autorizado\n",
    "genesis_block.poa()         # aleatorio"
   ]
  }
 ],
 "metadata": {
  "kernelspec": {
   "display_name": "Python 3",
   "language": "python",
   "name": "python3"
  },
  "language_info": {
   "codemirror_mode": {
    "name": "ipython",
    "version": 3
   },
   "file_extension": ".py",
   "mimetype": "text/x-python",
   "name": "python",
   "nbconvert_exporter": "python",
   "pygments_lexer": "ipython3",
   "version": "3.11.9"
  }
 },
 "nbformat": 4,
 "nbformat_minor": 5
}
